{
  "nbformat": 4,
  "nbformat_minor": 0,
  "metadata": {
    "colab": {
      "provenance": []
    },
    "kernelspec": {
      "name": "python3",
      "display_name": "Python 3"
    },
    "language_info": {
      "name": "python"
    }
  },
  "cells": [
    {
      "cell_type": "code",
      "execution_count": null,
      "metadata": {
        "id": "VtcuYeyrCNtk"
      },
      "outputs": [],
      "source": [
        "import pandas as pd\n",
        "import numpy as np\n",
        "import xgboost as xgb\n",
        "\n",
        "\n",
        "from plotnine import *\n",
        "\n",
        "from sklearn.model_selection import train_test_split, KFold, GridSearchCV\n",
        "from sklearn.metrics import balanced_accuracy_score, roc_auc_score, make_scorer\n",
        "from sklearn.metrics import confusion_matrix, plot_confusion_matrix\n",
        "\n",
        "from skopt import BayesSearchCV\n",
        "from skopt.space import Real, Categorical, Integer\n"
      ]
    },
    {
      "cell_type": "code",
      "source": [
        "# data: https://www.kaggle.com/competitions/2211-credit-card-churn-immune-online/data\n",
        "df = pd.read_csv('/content/train.csv')"
      ],
      "metadata": {
        "id": "SGX3ZD9YC8QP"
      },
      "execution_count": null,
      "outputs": []
    },
    {
      "cell_type": "code",
      "source": [
        "df.head(20)"
      ],
      "metadata": {
        "id": "eAClBH8gDHvf"
      },
      "execution_count": null,
      "outputs": []
    },
    {
      "cell_type": "markdown",
      "source": [
        "**Valores perdidos**"
      ],
      "metadata": {
        "id": "6KQYQluqQhKc"
      }
    },
    {
      "cell_type": "code",
      "source": [
        "df.isnull().sum()"
      ],
      "metadata": {
        "id": "XG8ZcjWOO343",
        "colab": {
          "base_uri": "https://localhost:8080/"
        },
        "outputId": "43b0c9e2-0b6d-4ad6-ec62-f2b11d6723b4"
      },
      "execution_count": null,
      "outputs": [
        {
          "output_type": "execute_result",
          "data": {
            "text/plain": [
              "customer_id                              0\n",
              "customer_age                           429\n",
              "education_level                        657\n",
              "marital_status                         318\n",
              "income_category                        501\n",
              "number_products_customer                 0\n",
              "weeks_tenure                             0\n",
              "contacts_last_12mths                     0\n",
              "credit_limit                             0\n",
              "card_class                               0\n",
              "inactive_months_last_12mths              0\n",
              "total_revolving_balance                  0\n",
              "count_transactions                       0\n",
              "transactions_amount                      0\n",
              "change_transaction_amt_last_3mths        0\n",
              "change_transaction_count_last_3mths      0\n",
              "churn                                    0\n",
              "dtype: int64"
            ]
          },
          "metadata": {},
          "execution_count": 16
        }
      ]
    },
    {
      "cell_type": "code",
      "source": [
        "df.dtypes"
      ],
      "metadata": {
        "id": "0urUco5MMcz-",
        "colab": {
          "base_uri": "https://localhost:8080/"
        },
        "outputId": "e5164020-d6f5-4140-f6fb-b3dccc901d29"
      },
      "execution_count": null,
      "outputs": [
        {
          "output_type": "execute_result",
          "data": {
            "text/plain": [
              "customer_id                              int64\n",
              "customer_age                           float64\n",
              "number_products_customer                 int64\n",
              "weeks_tenure                             int64\n",
              "contacts_last_12mths                     int64\n",
              "credit_limit                           float64\n",
              "inactive_months_last_12mths              int64\n",
              "total_revolving_balance                  int64\n",
              "count_transactions                       int64\n",
              "transactions_amount                      int64\n",
              "change_transaction_amt_last_3mths      float64\n",
              "change_transaction_count_last_3mths    float64\n",
              "churn                                    int64\n",
              "education_level_college                  uint8\n",
              "education_level_graduate                 uint8\n",
              "education_level_high school              uint8\n",
              "education_level_phd                      uint8\n",
              "education_level_post-graduate            uint8\n",
              "education_level_uneducated               uint8\n",
              "education_level_nan                      uint8\n",
              "marital_status_divorced                  uint8\n",
              "marital_status_married                   uint8\n",
              "marital_status_single                    uint8\n",
              "marital_status_nan                       uint8\n",
              "income_category_+110k€                   uint8\n",
              "income_category_30k€-50k€                uint8\n",
              "income_category_50k€-70k€                uint8\n",
              "income_category_70k€-110k€               uint8\n",
              "income_category_<30k€                    uint8\n",
              "income_category_nan                      uint8\n",
              "card_class_premium                       uint8\n",
              "card_class_red                           uint8\n",
              "card_class_red plus                      uint8\n",
              "card_class_red unlimited                 uint8\n",
              "card_class_nan                           uint8\n",
              "dtype: object"
            ]
          },
          "metadata": {},
          "execution_count": 20
        }
      ]
    },
    {
      "cell_type": "code",
      "source": [
        "df['customer_age'] = df['customer_age'].fillna(0)"
      ],
      "metadata": {
        "id": "xVxZCmTMRVS6"
      },
      "execution_count": null,
      "outputs": []
    },
    {
      "cell_type": "code",
      "source": [
        "df = pd.get_dummies(df, columns = ['education_level', 'marital_status', 'income_category', 'card_class'], dummy_na = True)"
      ],
      "metadata": {
        "id": "uQxoe3QR0dUO"
      },
      "execution_count": null,
      "outputs": []
    },
    {
      "cell_type": "code",
      "source": [
        "df.head()"
      ],
      "metadata": {
        "colab": {
          "base_uri": "https://localhost:8080/",
          "height": 317
        },
        "id": "mETXteyA0uuG",
        "outputId": "474d6da2-c07f-4c7c-af96-ee78a437ea21"
      },
      "execution_count": null,
      "outputs": [
        {
          "output_type": "execute_result",
          "data": {
            "text/plain": [
              "   customer_id  customer_age  number_products_customer  weeks_tenure  \\\n",
              "0         4278           0.0                         4           216   \n",
              "1         7300          45.0                         5           115   \n",
              "2         6857           0.0                         6           172   \n",
              "3         2508          39.0                         5           124   \n",
              "4         7859          40.0                         2           107   \n",
              "\n",
              "   contacts_last_12mths  credit_limit  inactive_months_last_12mths  \\\n",
              "0                     1       16541.0                            2   \n",
              "1                     3        1438.3                            3   \n",
              "2                     2        2293.0                            1   \n",
              "3                     2       17523.0                            2   \n",
              "4                     2        4391.0                            2   \n",
              "\n",
              "   total_revolving_balance  count_transactions  transactions_amount  ...  \\\n",
              "0                     1428                  82                 4352  ...   \n",
              "1                      576                  66                 5098  ...   \n",
              "2                     1460                  74                 4436  ...   \n",
              "3                        0                  54                 1974  ...   \n",
              "4                     1933                  36                 1849  ...   \n",
              "\n",
              "   income_category_30k€-50k€  income_category_50k€-70k€  \\\n",
              "0                          1                          0   \n",
              "1                          0                          0   \n",
              "2                          1                          0   \n",
              "3                          0                          0   \n",
              "4                          0                          0   \n",
              "\n",
              "   income_category_70k€-110k€  income_category_<30k€  income_category_nan  \\\n",
              "0                           0                      0                    0   \n",
              "1                           0                      1                    0   \n",
              "2                           0                      0                    0   \n",
              "3                           1                      0                    0   \n",
              "4                           0                      1                    0   \n",
              "\n",
              "   card_class_premium  card_class_red  card_class_red plus  \\\n",
              "0                   0               0                    1   \n",
              "1                   0               1                    0   \n",
              "2                   0               1                    0   \n",
              "3                   0               1                    0   \n",
              "4                   0               1                    0   \n",
              "\n",
              "   card_class_red unlimited  card_class_nan  \n",
              "0                         0               0  \n",
              "1                         0               0  \n",
              "2                         0               0  \n",
              "3                         0               0  \n",
              "4                         0               0  \n",
              "\n",
              "[5 rows x 35 columns]"
            ],
            "text/html": [
              "\n",
              "  <div id=\"df-a5681a94-cbbe-45b8-9460-ffc851e198dd\">\n",
              "    <div class=\"colab-df-container\">\n",
              "      <div>\n",
              "<style scoped>\n",
              "    .dataframe tbody tr th:only-of-type {\n",
              "        vertical-align: middle;\n",
              "    }\n",
              "\n",
              "    .dataframe tbody tr th {\n",
              "        vertical-align: top;\n",
              "    }\n",
              "\n",
              "    .dataframe thead th {\n",
              "        text-align: right;\n",
              "    }\n",
              "</style>\n",
              "<table border=\"1\" class=\"dataframe\">\n",
              "  <thead>\n",
              "    <tr style=\"text-align: right;\">\n",
              "      <th></th>\n",
              "      <th>customer_id</th>\n",
              "      <th>customer_age</th>\n",
              "      <th>number_products_customer</th>\n",
              "      <th>weeks_tenure</th>\n",
              "      <th>contacts_last_12mths</th>\n",
              "      <th>credit_limit</th>\n",
              "      <th>inactive_months_last_12mths</th>\n",
              "      <th>total_revolving_balance</th>\n",
              "      <th>count_transactions</th>\n",
              "      <th>transactions_amount</th>\n",
              "      <th>...</th>\n",
              "      <th>income_category_30k€-50k€</th>\n",
              "      <th>income_category_50k€-70k€</th>\n",
              "      <th>income_category_70k€-110k€</th>\n",
              "      <th>income_category_&lt;30k€</th>\n",
              "      <th>income_category_nan</th>\n",
              "      <th>card_class_premium</th>\n",
              "      <th>card_class_red</th>\n",
              "      <th>card_class_red plus</th>\n",
              "      <th>card_class_red unlimited</th>\n",
              "      <th>card_class_nan</th>\n",
              "    </tr>\n",
              "  </thead>\n",
              "  <tbody>\n",
              "    <tr>\n",
              "      <th>0</th>\n",
              "      <td>4278</td>\n",
              "      <td>0.0</td>\n",
              "      <td>4</td>\n",
              "      <td>216</td>\n",
              "      <td>1</td>\n",
              "      <td>16541.0</td>\n",
              "      <td>2</td>\n",
              "      <td>1428</td>\n",
              "      <td>82</td>\n",
              "      <td>4352</td>\n",
              "      <td>...</td>\n",
              "      <td>1</td>\n",
              "      <td>0</td>\n",
              "      <td>0</td>\n",
              "      <td>0</td>\n",
              "      <td>0</td>\n",
              "      <td>0</td>\n",
              "      <td>0</td>\n",
              "      <td>1</td>\n",
              "      <td>0</td>\n",
              "      <td>0</td>\n",
              "    </tr>\n",
              "    <tr>\n",
              "      <th>1</th>\n",
              "      <td>7300</td>\n",
              "      <td>45.0</td>\n",
              "      <td>5</td>\n",
              "      <td>115</td>\n",
              "      <td>3</td>\n",
              "      <td>1438.3</td>\n",
              "      <td>3</td>\n",
              "      <td>576</td>\n",
              "      <td>66</td>\n",
              "      <td>5098</td>\n",
              "      <td>...</td>\n",
              "      <td>0</td>\n",
              "      <td>0</td>\n",
              "      <td>0</td>\n",
              "      <td>1</td>\n",
              "      <td>0</td>\n",
              "      <td>0</td>\n",
              "      <td>1</td>\n",
              "      <td>0</td>\n",
              "      <td>0</td>\n",
              "      <td>0</td>\n",
              "    </tr>\n",
              "    <tr>\n",
              "      <th>2</th>\n",
              "      <td>6857</td>\n",
              "      <td>0.0</td>\n",
              "      <td>6</td>\n",
              "      <td>172</td>\n",
              "      <td>2</td>\n",
              "      <td>2293.0</td>\n",
              "      <td>1</td>\n",
              "      <td>1460</td>\n",
              "      <td>74</td>\n",
              "      <td>4436</td>\n",
              "      <td>...</td>\n",
              "      <td>1</td>\n",
              "      <td>0</td>\n",
              "      <td>0</td>\n",
              "      <td>0</td>\n",
              "      <td>0</td>\n",
              "      <td>0</td>\n",
              "      <td>1</td>\n",
              "      <td>0</td>\n",
              "      <td>0</td>\n",
              "      <td>0</td>\n",
              "    </tr>\n",
              "    <tr>\n",
              "      <th>3</th>\n",
              "      <td>2508</td>\n",
              "      <td>39.0</td>\n",
              "      <td>5</td>\n",
              "      <td>124</td>\n",
              "      <td>2</td>\n",
              "      <td>17523.0</td>\n",
              "      <td>2</td>\n",
              "      <td>0</td>\n",
              "      <td>54</td>\n",
              "      <td>1974</td>\n",
              "      <td>...</td>\n",
              "      <td>0</td>\n",
              "      <td>0</td>\n",
              "      <td>1</td>\n",
              "      <td>0</td>\n",
              "      <td>0</td>\n",
              "      <td>0</td>\n",
              "      <td>1</td>\n",
              "      <td>0</td>\n",
              "      <td>0</td>\n",
              "      <td>0</td>\n",
              "    </tr>\n",
              "    <tr>\n",
              "      <th>4</th>\n",
              "      <td>7859</td>\n",
              "      <td>40.0</td>\n",
              "      <td>2</td>\n",
              "      <td>107</td>\n",
              "      <td>2</td>\n",
              "      <td>4391.0</td>\n",
              "      <td>2</td>\n",
              "      <td>1933</td>\n",
              "      <td>36</td>\n",
              "      <td>1849</td>\n",
              "      <td>...</td>\n",
              "      <td>0</td>\n",
              "      <td>0</td>\n",
              "      <td>0</td>\n",
              "      <td>1</td>\n",
              "      <td>0</td>\n",
              "      <td>0</td>\n",
              "      <td>1</td>\n",
              "      <td>0</td>\n",
              "      <td>0</td>\n",
              "      <td>0</td>\n",
              "    </tr>\n",
              "  </tbody>\n",
              "</table>\n",
              "<p>5 rows × 35 columns</p>\n",
              "</div>\n",
              "      <button class=\"colab-df-convert\" onclick=\"convertToInteractive('df-a5681a94-cbbe-45b8-9460-ffc851e198dd')\"\n",
              "              title=\"Convert this dataframe to an interactive table.\"\n",
              "              style=\"display:none;\">\n",
              "        \n",
              "  <svg xmlns=\"http://www.w3.org/2000/svg\" height=\"24px\"viewBox=\"0 0 24 24\"\n",
              "       width=\"24px\">\n",
              "    <path d=\"M0 0h24v24H0V0z\" fill=\"none\"/>\n",
              "    <path d=\"M18.56 5.44l.94 2.06.94-2.06 2.06-.94-2.06-.94-.94-2.06-.94 2.06-2.06.94zm-11 1L8.5 8.5l.94-2.06 2.06-.94-2.06-.94L8.5 2.5l-.94 2.06-2.06.94zm10 10l.94 2.06.94-2.06 2.06-.94-2.06-.94-.94-2.06-.94 2.06-2.06.94z\"/><path d=\"M17.41 7.96l-1.37-1.37c-.4-.4-.92-.59-1.43-.59-.52 0-1.04.2-1.43.59L10.3 9.45l-7.72 7.72c-.78.78-.78 2.05 0 2.83L4 21.41c.39.39.9.59 1.41.59.51 0 1.02-.2 1.41-.59l7.78-7.78 2.81-2.81c.8-.78.8-2.07 0-2.86zM5.41 20L4 18.59l7.72-7.72 1.47 1.35L5.41 20z\"/>\n",
              "  </svg>\n",
              "      </button>\n",
              "      \n",
              "  <style>\n",
              "    .colab-df-container {\n",
              "      display:flex;\n",
              "      flex-wrap:wrap;\n",
              "      gap: 12px;\n",
              "    }\n",
              "\n",
              "    .colab-df-convert {\n",
              "      background-color: #E8F0FE;\n",
              "      border: none;\n",
              "      border-radius: 50%;\n",
              "      cursor: pointer;\n",
              "      display: none;\n",
              "      fill: #1967D2;\n",
              "      height: 32px;\n",
              "      padding: 0 0 0 0;\n",
              "      width: 32px;\n",
              "    }\n",
              "\n",
              "    .colab-df-convert:hover {\n",
              "      background-color: #E2EBFA;\n",
              "      box-shadow: 0px 1px 2px rgba(60, 64, 67, 0.3), 0px 1px 3px 1px rgba(60, 64, 67, 0.15);\n",
              "      fill: #174EA6;\n",
              "    }\n",
              "\n",
              "    [theme=dark] .colab-df-convert {\n",
              "      background-color: #3B4455;\n",
              "      fill: #D2E3FC;\n",
              "    }\n",
              "\n",
              "    [theme=dark] .colab-df-convert:hover {\n",
              "      background-color: #434B5C;\n",
              "      box-shadow: 0px 1px 3px 1px rgba(0, 0, 0, 0.15);\n",
              "      filter: drop-shadow(0px 1px 2px rgba(0, 0, 0, 0.3));\n",
              "      fill: #FFFFFF;\n",
              "    }\n",
              "  </style>\n",
              "\n",
              "      <script>\n",
              "        const buttonEl =\n",
              "          document.querySelector('#df-a5681a94-cbbe-45b8-9460-ffc851e198dd button.colab-df-convert');\n",
              "        buttonEl.style.display =\n",
              "          google.colab.kernel.accessAllowed ? 'block' : 'none';\n",
              "\n",
              "        async function convertToInteractive(key) {\n",
              "          const element = document.querySelector('#df-a5681a94-cbbe-45b8-9460-ffc851e198dd');\n",
              "          const dataTable =\n",
              "            await google.colab.kernel.invokeFunction('convertToInteractive',\n",
              "                                                     [key], {});\n",
              "          if (!dataTable) return;\n",
              "\n",
              "          const docLinkHtml = 'Like what you see? Visit the ' +\n",
              "            '<a target=\"_blank\" href=https://colab.research.google.com/notebooks/data_table.ipynb>data table notebook</a>'\n",
              "            + ' to learn more about interactive tables.';\n",
              "          element.innerHTML = '';\n",
              "          dataTable['output_type'] = 'display_data';\n",
              "          await google.colab.output.renderOutput(dataTable, element);\n",
              "          const docLink = document.createElement('div');\n",
              "          docLink.innerHTML = docLinkHtml;\n",
              "          element.appendChild(docLink);\n",
              "        }\n",
              "      </script>\n",
              "    </div>\n",
              "  </div>\n",
              "  "
            ]
          },
          "metadata": {},
          "execution_count": 19
        }
      ]
    },
    {
      "cell_type": "code",
      "source": [
        "df['churn'].value_counts()"
      ],
      "metadata": {
        "colab": {
          "base_uri": "https://localhost:8080/"
        },
        "id": "fE4fZMqbDOT-",
        "outputId": "bcd0b64f-2421-4308-ae28-448dee7adef7"
      },
      "execution_count": null,
      "outputs": [
        {
          "output_type": "execute_result",
          "data": {
            "text/plain": [
              "0    3248\n",
              "1    1144\n",
              "Name: churn, dtype: int64"
            ]
          },
          "metadata": {},
          "execution_count": 44
        }
      ]
    },
    {
      "cell_type": "code",
      "source": [
        "predictors = df.columns[df.columns != 'churn']\n",
        "X = df[predictors]\n",
        "X.drop(['customer_id'], axis = 1, inplace = True)\n",
        "y = df['churn']"
      ],
      "metadata": {
        "id": "T_tNdf4NRhuY",
        "colab": {
          "base_uri": "https://localhost:8080/"
        },
        "outputId": "284d3d9c-e2f1-4fac-f158-f94ed5010c4b"
      },
      "execution_count": null,
      "outputs": [
        {
          "output_type": "stream",
          "name": "stderr",
          "text": [
            "/usr/local/lib/python3.7/dist-packages/pandas/core/frame.py:4913: SettingWithCopyWarning: \n",
            "A value is trying to be set on a copy of a slice from a DataFrame\n",
            "\n",
            "See the caveats in the documentation: https://pandas.pydata.org/pandas-docs/stable/user_guide/indexing.html#returning-a-view-versus-a-copy\n"
          ]
        }
      ]
    },
    {
      "cell_type": "code",
      "source": [
        "X.columns"
      ],
      "metadata": {
        "colab": {
          "base_uri": "https://localhost:8080/"
        },
        "id": "zekefDLP15FI",
        "outputId": "f146979a-9cf8-446d-d450-8fa29992e138"
      },
      "execution_count": null,
      "outputs": [
        {
          "output_type": "execute_result",
          "data": {
            "text/plain": [
              "Index(['customer_age', 'number_products_customer', 'weeks_tenure',\n",
              "       'contacts_last_12mths', 'credit_limit', 'inactive_months_last_12mths',\n",
              "       'total_revolving_balance', 'count_transactions', 'transactions_amount',\n",
              "       'change_transaction_amt_last_3mths',\n",
              "       'change_transaction_count_last_3mths', 'education_level_college',\n",
              "       'education_level_graduate', 'education_level_high school',\n",
              "       'education_level_phd', 'education_level_post-graduate',\n",
              "       'education_level_uneducated', 'education_level_nan',\n",
              "       'marital_status_divorced', 'marital_status_married',\n",
              "       'marital_status_single', 'marital_status_nan', 'income_category_+110k€',\n",
              "       'income_category_30k€-50k€', 'income_category_50k€-70k€',\n",
              "       'income_category_70k€-110k€', 'income_category_<30k€',\n",
              "       'income_category_nan', 'card_class_premium', 'card_class_red',\n",
              "       'card_class_red plus', 'card_class_red unlimited', 'card_class_nan'],\n",
              "      dtype='object')"
            ]
          },
          "metadata": {},
          "execution_count": 22
        }
      ]
    },
    {
      "cell_type": "code",
      "source": [
        "X.rename(columns={'income_category_<30k€': 'income_category_treinta', \n",
        "                   'income_category_70k€-110k€': 'income_category_setenta',\n",
        "                   'income_category_30k€-50k€': 'income_category_cuarenta', \n",
        "                   'income_category_+110k€': 'income_category_cientodiez',\n",
        "                   'income_category_50k€-70k€': 'income_category_sesenta',\n",
        "                   'education_level_high school': 'education_level_high_school' }, inplace=True)"
      ],
      "metadata": {
        "colab": {
          "base_uri": "https://localhost:8080/"
        },
        "id": "0tij882y1jK3",
        "outputId": "e6f81db3-4b87-4ab9-c269-8bb0af49ecf2"
      },
      "execution_count": null,
      "outputs": [
        {
          "output_type": "stream",
          "name": "stderr",
          "text": [
            "/usr/local/lib/python3.7/dist-packages/pandas/core/frame.py:5047: SettingWithCopyWarning: \n",
            "A value is trying to be set on a copy of a slice from a DataFrame\n",
            "\n",
            "See the caveats in the documentation: https://pandas.pydata.org/pandas-docs/stable/user_guide/indexing.html#returning-a-view-versus-a-copy\n"
          ]
        }
      ]
    },
    {
      "cell_type": "code",
      "source": [
        "X.head()"
      ],
      "metadata": {
        "colab": {
          "base_uri": "https://localhost:8080/",
          "height": 317
        },
        "id": "SsOfSrPNG4I9",
        "outputId": "1be295e9-230a-4a90-895c-a00cf46b22e3"
      },
      "execution_count": null,
      "outputs": [
        {
          "output_type": "execute_result",
          "data": {
            "text/plain": [
              "   customer_age  number_products_customer  weeks_tenure  contacts_last_12mths  \\\n",
              "0           0.0                         4           216                     1   \n",
              "1          45.0                         5           115                     3   \n",
              "2           0.0                         6           172                     2   \n",
              "3          39.0                         5           124                     2   \n",
              "4          40.0                         2           107                     2   \n",
              "\n",
              "   credit_limit  inactive_months_last_12mths  total_revolving_balance  \\\n",
              "0       16541.0                            2                     1428   \n",
              "1        1438.3                            3                      576   \n",
              "2        2293.0                            1                     1460   \n",
              "3       17523.0                            2                        0   \n",
              "4        4391.0                            2                     1933   \n",
              "\n",
              "   count_transactions  transactions_amount  change_transaction_amt_last_3mths  \\\n",
              "0                  82                 4352                              0.846   \n",
              "1                  66                 5098                              0.774   \n",
              "2                  74                 4436                              0.658   \n",
              "3                  54                 1974                              0.424   \n",
              "4                  36                 1849                              0.579   \n",
              "\n",
              "   ...  income_category_cuarenta  income_category_sesenta  \\\n",
              "0  ...                         1                        0   \n",
              "1  ...                         0                        0   \n",
              "2  ...                         1                        0   \n",
              "3  ...                         0                        0   \n",
              "4  ...                         0                        0   \n",
              "\n",
              "   income_category_setenta  income_category_treinta  income_category_nan  \\\n",
              "0                        0                        0                    0   \n",
              "1                        0                        1                    0   \n",
              "2                        0                        0                    0   \n",
              "3                        1                        0                    0   \n",
              "4                        0                        1                    0   \n",
              "\n",
              "   card_class_premium  card_class_red  card_class_red plus  \\\n",
              "0                   0               0                    1   \n",
              "1                   0               1                    0   \n",
              "2                   0               1                    0   \n",
              "3                   0               1                    0   \n",
              "4                   0               1                    0   \n",
              "\n",
              "   card_class_red unlimited  card_class_nan  \n",
              "0                         0               0  \n",
              "1                         0               0  \n",
              "2                         0               0  \n",
              "3                         0               0  \n",
              "4                         0               0  \n",
              "\n",
              "[5 rows x 33 columns]"
            ],
            "text/html": [
              "\n",
              "  <div id=\"df-8e8fc2f1-a929-4bcf-8404-37e77c3a2a2e\">\n",
              "    <div class=\"colab-df-container\">\n",
              "      <div>\n",
              "<style scoped>\n",
              "    .dataframe tbody tr th:only-of-type {\n",
              "        vertical-align: middle;\n",
              "    }\n",
              "\n",
              "    .dataframe tbody tr th {\n",
              "        vertical-align: top;\n",
              "    }\n",
              "\n",
              "    .dataframe thead th {\n",
              "        text-align: right;\n",
              "    }\n",
              "</style>\n",
              "<table border=\"1\" class=\"dataframe\">\n",
              "  <thead>\n",
              "    <tr style=\"text-align: right;\">\n",
              "      <th></th>\n",
              "      <th>customer_age</th>\n",
              "      <th>number_products_customer</th>\n",
              "      <th>weeks_tenure</th>\n",
              "      <th>contacts_last_12mths</th>\n",
              "      <th>credit_limit</th>\n",
              "      <th>inactive_months_last_12mths</th>\n",
              "      <th>total_revolving_balance</th>\n",
              "      <th>count_transactions</th>\n",
              "      <th>transactions_amount</th>\n",
              "      <th>change_transaction_amt_last_3mths</th>\n",
              "      <th>...</th>\n",
              "      <th>income_category_cuarenta</th>\n",
              "      <th>income_category_sesenta</th>\n",
              "      <th>income_category_setenta</th>\n",
              "      <th>income_category_treinta</th>\n",
              "      <th>income_category_nan</th>\n",
              "      <th>card_class_premium</th>\n",
              "      <th>card_class_red</th>\n",
              "      <th>card_class_red plus</th>\n",
              "      <th>card_class_red unlimited</th>\n",
              "      <th>card_class_nan</th>\n",
              "    </tr>\n",
              "  </thead>\n",
              "  <tbody>\n",
              "    <tr>\n",
              "      <th>0</th>\n",
              "      <td>0.0</td>\n",
              "      <td>4</td>\n",
              "      <td>216</td>\n",
              "      <td>1</td>\n",
              "      <td>16541.0</td>\n",
              "      <td>2</td>\n",
              "      <td>1428</td>\n",
              "      <td>82</td>\n",
              "      <td>4352</td>\n",
              "      <td>0.846</td>\n",
              "      <td>...</td>\n",
              "      <td>1</td>\n",
              "      <td>0</td>\n",
              "      <td>0</td>\n",
              "      <td>0</td>\n",
              "      <td>0</td>\n",
              "      <td>0</td>\n",
              "      <td>0</td>\n",
              "      <td>1</td>\n",
              "      <td>0</td>\n",
              "      <td>0</td>\n",
              "    </tr>\n",
              "    <tr>\n",
              "      <th>1</th>\n",
              "      <td>45.0</td>\n",
              "      <td>5</td>\n",
              "      <td>115</td>\n",
              "      <td>3</td>\n",
              "      <td>1438.3</td>\n",
              "      <td>3</td>\n",
              "      <td>576</td>\n",
              "      <td>66</td>\n",
              "      <td>5098</td>\n",
              "      <td>0.774</td>\n",
              "      <td>...</td>\n",
              "      <td>0</td>\n",
              "      <td>0</td>\n",
              "      <td>0</td>\n",
              "      <td>1</td>\n",
              "      <td>0</td>\n",
              "      <td>0</td>\n",
              "      <td>1</td>\n",
              "      <td>0</td>\n",
              "      <td>0</td>\n",
              "      <td>0</td>\n",
              "    </tr>\n",
              "    <tr>\n",
              "      <th>2</th>\n",
              "      <td>0.0</td>\n",
              "      <td>6</td>\n",
              "      <td>172</td>\n",
              "      <td>2</td>\n",
              "      <td>2293.0</td>\n",
              "      <td>1</td>\n",
              "      <td>1460</td>\n",
              "      <td>74</td>\n",
              "      <td>4436</td>\n",
              "      <td>0.658</td>\n",
              "      <td>...</td>\n",
              "      <td>1</td>\n",
              "      <td>0</td>\n",
              "      <td>0</td>\n",
              "      <td>0</td>\n",
              "      <td>0</td>\n",
              "      <td>0</td>\n",
              "      <td>1</td>\n",
              "      <td>0</td>\n",
              "      <td>0</td>\n",
              "      <td>0</td>\n",
              "    </tr>\n",
              "    <tr>\n",
              "      <th>3</th>\n",
              "      <td>39.0</td>\n",
              "      <td>5</td>\n",
              "      <td>124</td>\n",
              "      <td>2</td>\n",
              "      <td>17523.0</td>\n",
              "      <td>2</td>\n",
              "      <td>0</td>\n",
              "      <td>54</td>\n",
              "      <td>1974</td>\n",
              "      <td>0.424</td>\n",
              "      <td>...</td>\n",
              "      <td>0</td>\n",
              "      <td>0</td>\n",
              "      <td>1</td>\n",
              "      <td>0</td>\n",
              "      <td>0</td>\n",
              "      <td>0</td>\n",
              "      <td>1</td>\n",
              "      <td>0</td>\n",
              "      <td>0</td>\n",
              "      <td>0</td>\n",
              "    </tr>\n",
              "    <tr>\n",
              "      <th>4</th>\n",
              "      <td>40.0</td>\n",
              "      <td>2</td>\n",
              "      <td>107</td>\n",
              "      <td>2</td>\n",
              "      <td>4391.0</td>\n",
              "      <td>2</td>\n",
              "      <td>1933</td>\n",
              "      <td>36</td>\n",
              "      <td>1849</td>\n",
              "      <td>0.579</td>\n",
              "      <td>...</td>\n",
              "      <td>0</td>\n",
              "      <td>0</td>\n",
              "      <td>0</td>\n",
              "      <td>1</td>\n",
              "      <td>0</td>\n",
              "      <td>0</td>\n",
              "      <td>1</td>\n",
              "      <td>0</td>\n",
              "      <td>0</td>\n",
              "      <td>0</td>\n",
              "    </tr>\n",
              "  </tbody>\n",
              "</table>\n",
              "<p>5 rows × 33 columns</p>\n",
              "</div>\n",
              "      <button class=\"colab-df-convert\" onclick=\"convertToInteractive('df-8e8fc2f1-a929-4bcf-8404-37e77c3a2a2e')\"\n",
              "              title=\"Convert this dataframe to an interactive table.\"\n",
              "              style=\"display:none;\">\n",
              "        \n",
              "  <svg xmlns=\"http://www.w3.org/2000/svg\" height=\"24px\"viewBox=\"0 0 24 24\"\n",
              "       width=\"24px\">\n",
              "    <path d=\"M0 0h24v24H0V0z\" fill=\"none\"/>\n",
              "    <path d=\"M18.56 5.44l.94 2.06.94-2.06 2.06-.94-2.06-.94-.94-2.06-.94 2.06-2.06.94zm-11 1L8.5 8.5l.94-2.06 2.06-.94-2.06-.94L8.5 2.5l-.94 2.06-2.06.94zm10 10l.94 2.06.94-2.06 2.06-.94-2.06-.94-.94-2.06-.94 2.06-2.06.94z\"/><path d=\"M17.41 7.96l-1.37-1.37c-.4-.4-.92-.59-1.43-.59-.52 0-1.04.2-1.43.59L10.3 9.45l-7.72 7.72c-.78.78-.78 2.05 0 2.83L4 21.41c.39.39.9.59 1.41.59.51 0 1.02-.2 1.41-.59l7.78-7.78 2.81-2.81c.8-.78.8-2.07 0-2.86zM5.41 20L4 18.59l7.72-7.72 1.47 1.35L5.41 20z\"/>\n",
              "  </svg>\n",
              "      </button>\n",
              "      \n",
              "  <style>\n",
              "    .colab-df-container {\n",
              "      display:flex;\n",
              "      flex-wrap:wrap;\n",
              "      gap: 12px;\n",
              "    }\n",
              "\n",
              "    .colab-df-convert {\n",
              "      background-color: #E8F0FE;\n",
              "      border: none;\n",
              "      border-radius: 50%;\n",
              "      cursor: pointer;\n",
              "      display: none;\n",
              "      fill: #1967D2;\n",
              "      height: 32px;\n",
              "      padding: 0 0 0 0;\n",
              "      width: 32px;\n",
              "    }\n",
              "\n",
              "    .colab-df-convert:hover {\n",
              "      background-color: #E2EBFA;\n",
              "      box-shadow: 0px 1px 2px rgba(60, 64, 67, 0.3), 0px 1px 3px 1px rgba(60, 64, 67, 0.15);\n",
              "      fill: #174EA6;\n",
              "    }\n",
              "\n",
              "    [theme=dark] .colab-df-convert {\n",
              "      background-color: #3B4455;\n",
              "      fill: #D2E3FC;\n",
              "    }\n",
              "\n",
              "    [theme=dark] .colab-df-convert:hover {\n",
              "      background-color: #434B5C;\n",
              "      box-shadow: 0px 1px 3px 1px rgba(0, 0, 0, 0.15);\n",
              "      filter: drop-shadow(0px 1px 2px rgba(0, 0, 0, 0.3));\n",
              "      fill: #FFFFFF;\n",
              "    }\n",
              "  </style>\n",
              "\n",
              "      <script>\n",
              "        const buttonEl =\n",
              "          document.querySelector('#df-8e8fc2f1-a929-4bcf-8404-37e77c3a2a2e button.colab-df-convert');\n",
              "        buttonEl.style.display =\n",
              "          google.colab.kernel.accessAllowed ? 'block' : 'none';\n",
              "\n",
              "        async function convertToInteractive(key) {\n",
              "          const element = document.querySelector('#df-8e8fc2f1-a929-4bcf-8404-37e77c3a2a2e');\n",
              "          const dataTable =\n",
              "            await google.colab.kernel.invokeFunction('convertToInteractive',\n",
              "                                                     [key], {});\n",
              "          if (!dataTable) return;\n",
              "\n",
              "          const docLinkHtml = 'Like what you see? Visit the ' +\n",
              "            '<a target=\"_blank\" href=https://colab.research.google.com/notebooks/data_table.ipynb>data table notebook</a>'\n",
              "            + ' to learn more about interactive tables.';\n",
              "          element.innerHTML = '';\n",
              "          dataTable['output_type'] = 'display_data';\n",
              "          await google.colab.output.renderOutput(dataTable, element);\n",
              "          const docLink = document.createElement('div');\n",
              "          docLink.innerHTML = docLinkHtml;\n",
              "          element.appendChild(docLink);\n",
              "        }\n",
              "      </script>\n",
              "    </div>\n",
              "  </div>\n",
              "  "
            ]
          },
          "metadata": {},
          "execution_count": 24
        }
      ]
    },
    {
      "cell_type": "code",
      "source": [
        "sum(y) / len(y)"
      ],
      "metadata": {
        "colab": {
          "base_uri": "https://localhost:8080/"
        },
        "id": "7FHSYGVcEM-D",
        "outputId": "c476dcd5-6db3-4f4f-8e79-6d62e95fd03f"
      },
      "execution_count": null,
      "outputs": [
        {
          "output_type": "execute_result",
          "data": {
            "text/plain": [
              "0.2604735883424408"
            ]
          },
          "metadata": {},
          "execution_count": 25
        }
      ]
    },
    {
      "cell_type": "code",
      "source": [
        "X_train, X_test, y_train, y_test = train_test_split(X, y, test_size = 0.2, random_state = 42, stratify = y)"
      ],
      "metadata": {
        "id": "o1MNUaUtEZ-J"
      },
      "execution_count": null,
      "outputs": []
    },
    {
      "cell_type": "code",
      "source": [
        "xgb_model = xgb.XGBClassifier()\n",
        "\n",
        "xgb_model.fit(X_train, y_train)\n",
        "\n",
        "xgb_model.score(X_test, y_test)"
      ],
      "metadata": {
        "id": "O7T15nDlE6ZT",
        "colab": {
          "base_uri": "https://localhost:8080/"
        },
        "outputId": "f6907f9b-8c5c-415c-8e51-7cd770e992ab"
      },
      "execution_count": null,
      "outputs": [
        {
          "output_type": "execute_result",
          "data": {
            "text/plain": [
              "0.9522184300341296"
            ]
          },
          "metadata": {},
          "execution_count": 28
        }
      ]
    },
    {
      "cell_type": "code",
      "source": [
        "search_spaces = {'max_depth':Integer(2,6),\n",
        "'min_child_weight':Integer(1,4),\n",
        "'gamma': Real(0, 1),\n",
        "'subsample': Real(0.6, 1),\n",
        " 'colsample_bytree': Real(0, 1),\n",
        " 'reg_alpha': Integer(0, 10),\n",
        " 'learning_rate': Real(0.4, 1),\n",
        " 'n_estimators': Integer(50,100)}\n",
        "\n",
        "\n",
        "opt = BayesSearchCV(xgb_model, search_spaces, cv=10, verbose= 10)\n",
        "opt.fit(X_train, y_train)\n"
      ],
      "metadata": {
        "id": "m3dCfwHGBFVP"
      },
      "execution_count": null,
      "outputs": []
    },
    {
      "cell_type": "code",
      "source": [
        "print(opt.best_estimator_.get_params())\n",
        "print(opt.best_score_)\n",
        "print(opt.score(X_test, y_test))"
      ],
      "metadata": {
        "colab": {
          "base_uri": "https://localhost:8080/"
        },
        "id": "wZ2xEc175uMK",
        "outputId": "56a876af-aa2b-44ec-b4f7-032702428323"
      },
      "execution_count": null,
      "outputs": [
        {
          "output_type": "stream",
          "name": "stdout",
          "text": [
            "{'base_score': 0.5, 'booster': 'gbtree', 'colsample_bylevel': 1, 'colsample_bynode': 1, 'colsample_bytree': 0.7981633976574217, 'gamma': 0.7377124113108194, 'learning_rate': 0.6281882010732335, 'max_delta_step': 0, 'max_depth': 3, 'min_child_weight': 1, 'missing': None, 'n_estimators': 86, 'n_jobs': 1, 'nthread': None, 'objective': 'binary:logistic', 'random_state': 0, 'reg_alpha': 0, 'reg_lambda': 1, 'scale_pos_weight': 1, 'seed': None, 'silent': None, 'subsample': 1.0, 'verbosity': 1}\n",
            "0.9624239186739187\n",
            "0.9601820250284414\n"
          ]
        }
      ]
    },
    {
      "cell_type": "code",
      "source": [
        "parametros = opt.best_estimator_.get_params()"
      ],
      "metadata": {
        "id": "37ZL7xuEaHdv"
      },
      "execution_count": null,
      "outputs": []
    },
    {
      "cell_type": "code",
      "source": [
        "parametros"
      ],
      "metadata": {
        "colab": {
          "base_uri": "https://localhost:8080/"
        },
        "id": "53gAg7AVaeN7",
        "outputId": "bbb2d4f9-f59b-459c-bbd9-8a42a709edd8"
      },
      "execution_count": null,
      "outputs": [
        {
          "output_type": "execute_result",
          "data": {
            "text/plain": [
              "{'base_score': 0.5,\n",
              " 'booster': 'gbtree',\n",
              " 'colsample_bylevel': 1,\n",
              " 'colsample_bynode': 1,\n",
              " 'colsample_bytree': 0.7981633976574217,\n",
              " 'gamma': 0.7377124113108194,\n",
              " 'learning_rate': 0.6281882010732335,\n",
              " 'max_delta_step': 0,\n",
              " 'max_depth': 3,\n",
              " 'min_child_weight': 1,\n",
              " 'missing': None,\n",
              " 'n_estimators': 86,\n",
              " 'n_jobs': 1,\n",
              " 'nthread': None,\n",
              " 'objective': 'binary:logistic',\n",
              " 'random_state': 0,\n",
              " 'reg_alpha': 0,\n",
              " 'reg_lambda': 1,\n",
              " 'scale_pos_weight': 1,\n",
              " 'seed': None,\n",
              " 'silent': None,\n",
              " 'subsample': 1.0,\n",
              " 'verbosity': 1}"
            ]
          },
          "metadata": {},
          "execution_count": 123
        }
      ]
    },
    {
      "cell_type": "code",
      "source": [
        "results2 = pd.DataFrame(opt.cv_results_)\n",
        "results2.sort_values(by='rank_test_score', inplace=True)"
      ],
      "metadata": {
        "id": "x2SVx9F8JSua"
      },
      "execution_count": null,
      "outputs": []
    },
    {
      "cell_type": "code",
      "source": [
        "print(results2)"
      ],
      "metadata": {
        "id": "gl0gV8WkZcXL"
      },
      "execution_count": null,
      "outputs": []
    },
    {
      "cell_type": "code",
      "source": [
        "results.iloc[1:20, 0:15]\n",
        "print(results)"
      ],
      "metadata": {
        "id": "XZSPMwa96Sho"
      },
      "execution_count": null,
      "outputs": []
    },
    {
      "cell_type": "code",
      "source": [
        "xgb_model_fin = xgb.XGBClassifier(base_score= 0.5,\n",
        " booster= 'gbtree',\n",
        " colsample_bylevel= 1,\n",
        " colsample_bynode= 1,\n",
        " colsample_bytree= 0.7981633976574217,\n",
        " gamma= 0.7377124113108194,\n",
        " learning_rate= 0.6281882010732335,\n",
        " max_delta_step= 0,\n",
        " max_depth= 3,\n",
        " min_child_weight= 1,\n",
        " missing= None,\n",
        " n_estimators= 86,\n",
        " n_jobs= 1,\n",
        " nthread= None,\n",
        " objective= 'binary:logistic',\n",
        " random_state= 0,\n",
        " reg_alpha= 0,\n",
        " reg_lambda= 1,\n",
        " scale_pos_weight= 1,\n",
        " seed= None,\n",
        " silent= None,\n",
        " subsample= 1.0,\n",
        " verbosity= 1)\n",
        "\n",
        "xgb_model_fin.fit(X_train, y_train)\n",
        "\n",
        "xgb_model_fin.score(X_test, y_test)"
      ],
      "metadata": {
        "colab": {
          "base_uri": "https://localhost:8080/"
        },
        "id": "Gi5tGFOQWf6i",
        "outputId": "a26e8cd6-8336-42c5-c4d7-d7c61d60b47d"
      },
      "execution_count": null,
      "outputs": [
        {
          "output_type": "execute_result",
          "data": {
            "text/plain": [
              "0.9601820250284414"
            ]
          },
          "metadata": {},
          "execution_count": 34
        }
      ]
    },
    {
      "cell_type": "code",
      "source": [
        "plot_confusion_matrix(xgb_model_fin,\n",
        "                      X_test,\n",
        "                      y_test)"
      ],
      "metadata": {
        "colab": {
          "base_uri": "https://localhost:8080/",
          "height": 334
        },
        "id": "94Khp91fYrmP",
        "outputId": "f7e6b6c7-36e9-45f7-e9ea-1ddf9825b40d"
      },
      "execution_count": null,
      "outputs": [
        {
          "output_type": "stream",
          "name": "stderr",
          "text": [
            "/usr/local/lib/python3.7/dist-packages/sklearn/utils/deprecation.py:87: FutureWarning: Function plot_confusion_matrix is deprecated; Function `plot_confusion_matrix` is deprecated in 1.0 and will be removed in 1.2. Use one of the class methods: ConfusionMatrixDisplay.from_predictions or ConfusionMatrixDisplay.from_estimator.\n"
          ]
        },
        {
          "output_type": "execute_result",
          "data": {
            "text/plain": [
              "<sklearn.metrics._plot.confusion_matrix.ConfusionMatrixDisplay at 0x7f5153c74250>"
            ]
          },
          "metadata": {},
          "execution_count": 38
        },
        {
          "output_type": "display_data",
          "data": {
            "text/plain": [
              "<Figure size 432x288 with 2 Axes>"
            ],
            "image/png": "[encoded data removed]"
          },
          "metadata": {
            "needs_background": "light"
          }
        }
      ]
    },
    {
      "cell_type": "code",
      "source": [
        "feature_important = xgb_model_fin.get_booster().get_score(importance_type='gain')\n",
        "keys = list(feature_important.keys())\n",
        "values = list(feature_important.values())\n",
        "\n",
        "data = pd.DataFrame(data=values, index=keys, columns=[\"score\"])\n",
        "data.nlargest(40, columns=\"score\").plot(kind='barh', figsize = (20,10)) ## plot top 40 features"
      ],
      "metadata": {
        "colab": {
          "base_uri": "https://localhost:8080/",
          "height": 459
        },
        "id": "w10NIX34cDOx",
        "outputId": "75b66e19-c2d4-40d9-b756-cab21fc7b8ee"
      },
      "execution_count": null,
      "outputs": [
        {
          "output_type": "execute_result",
          "data": {
            "text/plain": [
              "<matplotlib.axes._subplots.AxesSubplot at 0x7f515391f410>"
            ]
          },
          "metadata": {},
          "execution_count": 41
        },
        {
          "output_type": "display_data",
          "data": {
            "text/plain": [
              "<Figure size 1440x720 with 1 Axes>"
            ],
            "image/png": "[encoded data removed]"
          },
          "metadata": {
            "needs_background": "light"
          }
        }
      ]
    },
    {
      "cell_type": "code",
      "source": [
        "feature_important"
      ],
      "metadata": {
        "colab": {
          "base_uri": "https://localhost:8080/"
        },
        "id": "SBFiFJRCdruX",
        "outputId": "f5c15220-5e41-437c-a81c-b42b1bc21132"
      },
      "execution_count": null,
      "outputs": [
        {
          "output_type": "execute_result",
          "data": {
            "text/plain": [
              "{'total_revolving_balance': 21.19903277141177,\n",
              " 'change_transaction_count_last_3mths': 13.569537314102563,\n",
              " 'number_products_customer': 17.896331264125003,\n",
              " 'count_transactions': 29.591767518055562,\n",
              " 'transactions_amount': 12.327551710082194,\n",
              " 'change_transaction_amt_last_3mths': 5.830571327159089,\n",
              " 'inactive_months_last_12mths': 7.421404549333332,\n",
              " 'customer_age': 4.327968763409092,\n",
              " 'contacts_last_12mths': 7.336900857399999,\n",
              " 'weeks_tenure': 3.501334170117647,\n",
              " 'income_category_cuarenta': 2.6950084245,\n",
              " 'marital_status_divorced': 3.7213494799999998,\n",
              " 'credit_limit': 2.2474284385555556,\n",
              " 'marital_status_single': 1.6578154857499998,\n",
              " 'education_level_high_school': 1.4303554250000001,\n",
              " 'education_level_uneducated': 1.7715030866666668,\n",
              " 'card_class_red': 2.51044035,\n",
              " 'education_level_nan': 1.60679662,\n",
              " 'marital_status_nan': 0.9025735855000001,\n",
              " 'education_level_graduate': 1.21698737,\n",
              " 'marital_status_married': 0.862603009}"
            ]
          },
          "metadata": {},
          "execution_count": 44
        }
      ]
    },
    {
      "cell_type": "code",
      "source": [
        "print(df[df['churn'] == 1]['count_transactions'].mean())\n",
        "print(df[df['churn'] == 0]['count_transactions'].mean())"
      ],
      "metadata": {
        "colab": {
          "base_uri": "https://localhost:8080/"
        },
        "id": "Y6-EU3KKeVI4",
        "outputId": "577c940f-9604-4734-8aaf-34249a89e14c"
      },
      "execution_count": null,
      "outputs": [
        {
          "output_type": "stream",
          "name": "stdout",
          "text": [
            "44.88461538461539\n",
            "68.24692118226601\n"
          ]
        }
      ]
    },
    {
      "cell_type": "code",
      "source": [
        "ggplot(df) + geom_histogram(aes('count_transactions')) + facet_wrap('churn')"
      ],
      "metadata": {
        "colab": {
          "base_uri": "https://localhost:8080/",
          "height": 523
        },
        "id": "e4ICNyep7eZ7",
        "outputId": "2e40db4c-5ffc-4734-f8ad-6faa655889b6"
      },
      "execution_count": null,
      "outputs": [
        {
          "output_type": "stream",
          "name": "stderr",
          "text": [
            "/usr/local/lib/python3.7/dist-packages/plotnine/stats/stat_bin.py:95: PlotnineWarning: 'stat_bin()' using 'bins = 30'. Pick better value with 'binwidth'.\n"
          ]
        },
        {
          "output_type": "display_data",
          "data": {
            "text/plain": [
              "<Figure size 640x480 with 2 Axes>"
            ],
            "image/png": "[encoded data removed]"
          },
          "metadata": {}
        },
        {
          "output_type": "execute_result",
          "data": {
            "text/plain": [
              "<ggplot: (8749204284589)>"
            ]
          },
          "metadata": {},
          "execution_count": 57
        }
      ]
    },
    {
      "cell_type": "markdown",
      "source": [
        "Submission"
      ],
      "metadata": {
        "id": "SXM1rKWfvodK"
      }
    },
    {
      "cell_type": "code",
      "source": [
        "df_test = pd.read_csv('/content/test(1).csv')"
      ],
      "metadata": {
        "id": "hcoaluGkuHc_"
      },
      "execution_count": null,
      "outputs": []
    },
    {
      "cell_type": "code",
      "source": [
        "df_test.head()"
      ],
      "metadata": {
        "colab": {
          "base_uri": "https://localhost:8080/",
          "height": 270
        },
        "id": "Ak_g7ctKv7O8",
        "outputId": "06050488-4989-48b8-8a6e-8e86339aae4a"
      },
      "execution_count": null,
      "outputs": [
        {
          "output_type": "execute_result",
          "data": {
            "text/plain": [
              "   customer_id  customer_age education_level marital_status income_category  \\\n",
              "0         4527          46.0     high school        married      70k€-110k€   \n",
              "1         4166          47.0         college         single       50k€-70k€   \n",
              "2         4409          39.0         college       divorced             NaN   \n",
              "3         6376          39.0         college        married             NaN   \n",
              "4         6367          42.0      uneducated        married           <30k€   \n",
              "\n",
              "   number_products_customer  weeks_tenure  contacts_last_12mths  credit_limit  \\\n",
              "0                         5           142                     3        9852.0   \n",
              "1                         4           131                     2        1438.3   \n",
              "2                         4           156                     2        3264.0   \n",
              "3                         5           116                     3        4693.0   \n",
              "4                         2           115                     0        2275.0   \n",
              "\n",
              "  card_class  inactive_months_last_12mths  total_revolving_balance  \\\n",
              "0        red                            2                     2277   \n",
              "1        red                            1                        0   \n",
              "2        red                            3                     2042   \n",
              "3        red                            1                      634   \n",
              "4        red                            2                     1265   \n",
              "\n",
              "   count_transactions  transactions_amount  change_transaction_amt_last_3mths  \\\n",
              "0                  71                 3813                              0.831   \n",
              "1                  26                 1468                              0.810   \n",
              "2                  75                 4624                              0.752   \n",
              "3                  79                 4460                              0.909   \n",
              "4                  77                 5626                              0.755   \n",
              "\n",
              "   change_transaction_count_last_3mths  \n",
              "0                                0.614  \n",
              "1                                0.625  \n",
              "2                                0.705  \n",
              "3                                0.837  \n",
              "4                                1.081  "
            ],
            "text/html": [
              "\n",
              "  <div id=\"df-0b845693-3c93-49ed-8b20-9b451dacb8ee\">\n",
              "    <div class=\"colab-df-container\">\n",
              "      <div>\n",
              "<style scoped>\n",
              "    .dataframe tbody tr th:only-of-type {\n",
              "        vertical-align: middle;\n",
              "    }\n",
              "\n",
              "    .dataframe tbody tr th {\n",
              "        vertical-align: top;\n",
              "    }\n",
              "\n",
              "    .dataframe thead th {\n",
              "        text-align: right;\n",
              "    }\n",
              "</style>\n",
              "<table border=\"1\" class=\"dataframe\">\n",
              "  <thead>\n",
              "    <tr style=\"text-align: right;\">\n",
              "      <th></th>\n",
              "      <th>customer_id</th>\n",
              "      <th>customer_age</th>\n",
              "      <th>education_level</th>\n",
              "      <th>marital_status</th>\n",
              "      <th>income_category</th>\n",
              "      <th>number_products_customer</th>\n",
              "      <th>weeks_tenure</th>\n",
              "      <th>contacts_last_12mths</th>\n",
              "      <th>credit_limit</th>\n",
              "      <th>card_class</th>\n",
              "      <th>inactive_months_last_12mths</th>\n",
              "      <th>total_revolving_balance</th>\n",
              "      <th>count_transactions</th>\n",
              "      <th>transactions_amount</th>\n",
              "      <th>change_transaction_amt_last_3mths</th>\n",
              "      <th>change_transaction_count_last_3mths</th>\n",
              "    </tr>\n",
              "  </thead>\n",
              "  <tbody>\n",
              "    <tr>\n",
              "      <th>0</th>\n",
              "      <td>4527</td>\n",
              "      <td>46.0</td>\n",
              "      <td>high school</td>\n",
              "      <td>married</td>\n",
              "      <td>70k€-110k€</td>\n",
              "      <td>5</td>\n",
              "      <td>142</td>\n",
              "      <td>3</td>\n",
              "      <td>9852.0</td>\n",
              "      <td>red</td>\n",
              "      <td>2</td>\n",
              "      <td>2277</td>\n",
              "      <td>71</td>\n",
              "      <td>3813</td>\n",
              "      <td>0.831</td>\n",
              "      <td>0.614</td>\n",
              "    </tr>\n",
              "    <tr>\n",
              "      <th>1</th>\n",
              "      <td>4166</td>\n",
              "      <td>47.0</td>\n",
              "      <td>college</td>\n",
              "      <td>single</td>\n",
              "      <td>50k€-70k€</td>\n",
              "      <td>4</td>\n",
              "      <td>131</td>\n",
              "      <td>2</td>\n",
              "      <td>1438.3</td>\n",
              "      <td>red</td>\n",
              "      <td>1</td>\n",
              "      <td>0</td>\n",
              "      <td>26</td>\n",
              "      <td>1468</td>\n",
              "      <td>0.810</td>\n",
              "      <td>0.625</td>\n",
              "    </tr>\n",
              "    <tr>\n",
              "      <th>2</th>\n",
              "      <td>4409</td>\n",
              "      <td>39.0</td>\n",
              "      <td>college</td>\n",
              "      <td>divorced</td>\n",
              "      <td>NaN</td>\n",
              "      <td>4</td>\n",
              "      <td>156</td>\n",
              "      <td>2</td>\n",
              "      <td>3264.0</td>\n",
              "      <td>red</td>\n",
              "      <td>3</td>\n",
              "      <td>2042</td>\n",
              "      <td>75</td>\n",
              "      <td>4624</td>\n",
              "      <td>0.752</td>\n",
              "      <td>0.705</td>\n",
              "    </tr>\n",
              "    <tr>\n",
              "      <th>3</th>\n",
              "      <td>6376</td>\n",
              "      <td>39.0</td>\n",
              "      <td>college</td>\n",
              "      <td>married</td>\n",
              "      <td>NaN</td>\n",
              "      <td>5</td>\n",
              "      <td>116</td>\n",
              "      <td>3</td>\n",
              "      <td>4693.0</td>\n",
              "      <td>red</td>\n",
              "      <td>1</td>\n",
              "      <td>634</td>\n",
              "      <td>79</td>\n",
              "      <td>4460</td>\n",
              "      <td>0.909</td>\n",
              "      <td>0.837</td>\n",
              "    </tr>\n",
              "    <tr>\n",
              "      <th>4</th>\n",
              "      <td>6367</td>\n",
              "      <td>42.0</td>\n",
              "      <td>uneducated</td>\n",
              "      <td>married</td>\n",
              "      <td>&lt;30k€</td>\n",
              "      <td>2</td>\n",
              "      <td>115</td>\n",
              "      <td>0</td>\n",
              "      <td>2275.0</td>\n",
              "      <td>red</td>\n",
              "      <td>2</td>\n",
              "      <td>1265</td>\n",
              "      <td>77</td>\n",
              "      <td>5626</td>\n",
              "      <td>0.755</td>\n",
              "      <td>1.081</td>\n",
              "    </tr>\n",
              "  </tbody>\n",
              "</table>\n",
              "</div>\n",
              "      <button class=\"colab-df-convert\" onclick=\"convertToInteractive('df-0b845693-3c93-49ed-8b20-9b451dacb8ee')\"\n",
              "              title=\"Convert this dataframe to an interactive table.\"\n",
              "              style=\"display:none;\">\n",
              "        \n",
              "  <svg xmlns=\"http://www.w3.org/2000/svg\" height=\"24px\"viewBox=\"0 0 24 24\"\n",
              "       width=\"24px\">\n",
              "    <path d=\"M0 0h24v24H0V0z\" fill=\"none\"/>\n",
              "    <path d=\"M18.56 5.44l.94 2.06.94-2.06 2.06-.94-2.06-.94-.94-2.06-.94 2.06-2.06.94zm-11 1L8.5 8.5l.94-2.06 2.06-.94-2.06-.94L8.5 2.5l-.94 2.06-2.06.94zm10 10l.94 2.06.94-2.06 2.06-.94-2.06-.94-.94-2.06-.94 2.06-2.06.94z\"/><path d=\"M17.41 7.96l-1.37-1.37c-.4-.4-.92-.59-1.43-.59-.52 0-1.04.2-1.43.59L10.3 9.45l-7.72 7.72c-.78.78-.78 2.05 0 2.83L4 21.41c.39.39.9.59 1.41.59.51 0 1.02-.2 1.41-.59l7.78-7.78 2.81-2.81c.8-.78.8-2.07 0-2.86zM5.41 20L4 18.59l7.72-7.72 1.47 1.35L5.41 20z\"/>\n",
              "  </svg>\n",
              "      </button>\n",
              "      \n",
              "  <style>\n",
              "    .colab-df-container {\n",
              "      display:flex;\n",
              "      flex-wrap:wrap;\n",
              "      gap: 12px;\n",
              "    }\n",
              "\n",
              "    .colab-df-convert {\n",
              "      background-color: #E8F0FE;\n",
              "      border: none;\n",
              "      border-radius: 50%;\n",
              "      cursor: pointer;\n",
              "      display: none;\n",
              "      fill: #1967D2;\n",
              "      height: 32px;\n",
              "      padding: 0 0 0 0;\n",
              "      width: 32px;\n",
              "    }\n",
              "\n",
              "    .colab-df-convert:hover {\n",
              "      background-color: #E2EBFA;\n",
              "      box-shadow: 0px 1px 2px rgba(60, 64, 67, 0.3), 0px 1px 3px 1px rgba(60, 64, 67, 0.15);\n",
              "      fill: #174EA6;\n",
              "    }\n",
              "\n",
              "    [theme=dark] .colab-df-convert {\n",
              "      background-color: #3B4455;\n",
              "      fill: #D2E3FC;\n",
              "    }\n",
              "\n",
              "    [theme=dark] .colab-df-convert:hover {\n",
              "      background-color: #434B5C;\n",
              "      box-shadow: 0px 1px 3px 1px rgba(0, 0, 0, 0.15);\n",
              "      filter: drop-shadow(0px 1px 2px rgba(0, 0, 0, 0.3));\n",
              "      fill: #FFFFFF;\n",
              "    }\n",
              "  </style>\n",
              "\n",
              "      <script>\n",
              "        const buttonEl =\n",
              "          document.querySelector('#df-0b845693-3c93-49ed-8b20-9b451dacb8ee button.colab-df-convert');\n",
              "        buttonEl.style.display =\n",
              "          google.colab.kernel.accessAllowed ? 'block' : 'none';\n",
              "\n",
              "        async function convertToInteractive(key) {\n",
              "          const element = document.querySelector('#df-0b845693-3c93-49ed-8b20-9b451dacb8ee');\n",
              "          const dataTable =\n",
              "            await google.colab.kernel.invokeFunction('convertToInteractive',\n",
              "                                                     [key], {});\n",
              "          if (!dataTable) return;\n",
              "\n",
              "          const docLinkHtml = 'Like what you see? Visit the ' +\n",
              "            '<a target=\"_blank\" href=https://colab.research.google.com/notebooks/data_table.ipynb>data table notebook</a>'\n",
              "            + ' to learn more about interactive tables.';\n",
              "          element.innerHTML = '';\n",
              "          dataTable['output_type'] = 'display_data';\n",
              "          await google.colab.output.renderOutput(dataTable, element);\n",
              "          const docLink = document.createElement('div');\n",
              "          docLink.innerHTML = docLinkHtml;\n",
              "          element.appendChild(docLink);\n",
              "        }\n",
              "      </script>\n",
              "    </div>\n",
              "  </div>\n",
              "  "
            ]
          },
          "metadata": {},
          "execution_count": 102
        }
      ]
    },
    {
      "cell_type": "code",
      "source": [
        "df_test['customer_age'] = df_test['customer_age'].fillna(0)\n",
        "df_test = pd.get_dummies(df_test, columns = ['education_level', 'marital_status', 'income_category', 'card_class'], dummy_na = True)\n",
        "df_test.rename(columns={'income_category_<30k€': 'income_category_treinta', \n",
        "                   'income_category_70k€-110k€': 'income_category_setenta',\n",
        "                   'income_category_30k€-50k€': 'income_category_cuarenta', \n",
        "                   'income_category_+110k€': 'income_category_cientodiez',\n",
        "                   'income_category_50k€-70k€': 'income_category_sesenta'}, inplace=True)"
      ],
      "metadata": {
        "id": "cgSj0GXFwKwA"
      },
      "execution_count": null,
      "outputs": []
    },
    {
      "cell_type": "code",
      "source": [
        "customer_id = df_test['customer_id']\n",
        "df_test.drop('customer_id', axis = 1, inplace = True)"
      ],
      "metadata": {
        "id": "90TxeJjkwEky"
      },
      "execution_count": null,
      "outputs": []
    },
    {
      "cell_type": "code",
      "source": [
        "df_test.head()"
      ],
      "metadata": {
        "colab": {
          "base_uri": "https://localhost:8080/",
          "height": 317
        },
        "id": "_WCFrhluw7FT",
        "outputId": "eb2592ea-f974-4a47-f193-0cb91e82fa1d"
      },
      "execution_count": null,
      "outputs": [
        {
          "output_type": "execute_result",
          "data": {
            "text/plain": [
              "   customer_age  number_products_customer  weeks_tenure  contacts_last_12mths  \\\n",
              "0          46.0                         5           142                     3   \n",
              "1          47.0                         4           131                     2   \n",
              "2          39.0                         4           156                     2   \n",
              "3          39.0                         5           116                     3   \n",
              "4          42.0                         2           115                     0   \n",
              "\n",
              "   credit_limit  inactive_months_last_12mths  total_revolving_balance  \\\n",
              "0        9852.0                            2                     2277   \n",
              "1        1438.3                            1                        0   \n",
              "2        3264.0                            3                     2042   \n",
              "3        4693.0                            1                      634   \n",
              "4        2275.0                            2                     1265   \n",
              "\n",
              "   count_transactions  transactions_amount  change_transaction_amt_last_3mths  \\\n",
              "0                  71                 3813                              0.831   \n",
              "1                  26                 1468                              0.810   \n",
              "2                  75                 4624                              0.752   \n",
              "3                  79                 4460                              0.909   \n",
              "4                  77                 5626                              0.755   \n",
              "\n",
              "   ...  income_category_cuarenta  income_category_sesenta  \\\n",
              "0  ...                         0                        0   \n",
              "1  ...                         0                        1   \n",
              "2  ...                         0                        0   \n",
              "3  ...                         0                        0   \n",
              "4  ...                         0                        0   \n",
              "\n",
              "   income_category_setenta  income_category_treinta  income_category_nan  \\\n",
              "0                        1                        0                    0   \n",
              "1                        0                        0                    0   \n",
              "2                        0                        0                    1   \n",
              "3                        0                        0                    1   \n",
              "4                        0                        1                    0   \n",
              "\n",
              "   card_class_premium  card_class_red  card_class_red plus  \\\n",
              "0                   0               1                    0   \n",
              "1                   0               1                    0   \n",
              "2                   0               1                    0   \n",
              "3                   0               1                    0   \n",
              "4                   0               1                    0   \n",
              "\n",
              "   card_class_red unlimited  card_class_nan  \n",
              "0                         0               0  \n",
              "1                         0               0  \n",
              "2                         0               0  \n",
              "3                         0               0  \n",
              "4                         0               0  \n",
              "\n",
              "[5 rows x 33 columns]"
            ],
            "text/html": [
              "\n",
              "  <div id=\"df-483bdadd-f286-45db-8c6c-2e693b2c15e2\">\n",
              "    <div class=\"colab-df-container\">\n",
              "      <div>\n",
              "<style scoped>\n",
              "    .dataframe tbody tr th:only-of-type {\n",
              "        vertical-align: middle;\n",
              "    }\n",
              "\n",
              "    .dataframe tbody tr th {\n",
              "        vertical-align: top;\n",
              "    }\n",
              "\n",
              "    .dataframe thead th {\n",
              "        text-align: right;\n",
              "    }\n",
              "</style>\n",
              "<table border=\"1\" class=\"dataframe\">\n",
              "  <thead>\n",
              "    <tr style=\"text-align: right;\">\n",
              "      <th></th>\n",
              "      <th>customer_age</th>\n",
              "      <th>number_products_customer</th>\n",
              "      <th>weeks_tenure</th>\n",
              "      <th>contacts_last_12mths</th>\n",
              "      <th>credit_limit</th>\n",
              "      <th>inactive_months_last_12mths</th>\n",
              "      <th>total_revolving_balance</th>\n",
              "      <th>count_transactions</th>\n",
              "      <th>transactions_amount</th>\n",
              "      <th>change_transaction_amt_last_3mths</th>\n",
              "      <th>...</th>\n",
              "      <th>income_category_cuarenta</th>\n",
              "      <th>income_category_sesenta</th>\n",
              "      <th>income_category_setenta</th>\n",
              "      <th>income_category_treinta</th>\n",
              "      <th>income_category_nan</th>\n",
              "      <th>card_class_premium</th>\n",
              "      <th>card_class_red</th>\n",
              "      <th>card_class_red plus</th>\n",
              "      <th>card_class_red unlimited</th>\n",
              "      <th>card_class_nan</th>\n",
              "    </tr>\n",
              "  </thead>\n",
              "  <tbody>\n",
              "    <tr>\n",
              "      <th>0</th>\n",
              "      <td>46.0</td>\n",
              "      <td>5</td>\n",
              "      <td>142</td>\n",
              "      <td>3</td>\n",
              "      <td>9852.0</td>\n",
              "      <td>2</td>\n",
              "      <td>2277</td>\n",
              "      <td>71</td>\n",
              "      <td>3813</td>\n",
              "      <td>0.831</td>\n",
              "      <td>...</td>\n",
              "      <td>0</td>\n",
              "      <td>0</td>\n",
              "      <td>1</td>\n",
              "      <td>0</td>\n",
              "      <td>0</td>\n",
              "      <td>0</td>\n",
              "      <td>1</td>\n",
              "      <td>0</td>\n",
              "      <td>0</td>\n",
              "      <td>0</td>\n",
              "    </tr>\n",
              "    <tr>\n",
              "      <th>1</th>\n",
              "      <td>47.0</td>\n",
              "      <td>4</td>\n",
              "      <td>131</td>\n",
              "      <td>2</td>\n",
              "      <td>1438.3</td>\n",
              "      <td>1</td>\n",
              "      <td>0</td>\n",
              "      <td>26</td>\n",
              "      <td>1468</td>\n",
              "      <td>0.810</td>\n",
              "      <td>...</td>\n",
              "      <td>0</td>\n",
              "      <td>1</td>\n",
              "      <td>0</td>\n",
              "      <td>0</td>\n",
              "      <td>0</td>\n",
              "      <td>0</td>\n",
              "      <td>1</td>\n",
              "      <td>0</td>\n",
              "      <td>0</td>\n",
              "      <td>0</td>\n",
              "    </tr>\n",
              "    <tr>\n",
              "      <th>2</th>\n",
              "      <td>39.0</td>\n",
              "      <td>4</td>\n",
              "      <td>156</td>\n",
              "      <td>2</td>\n",
              "      <td>3264.0</td>\n",
              "      <td>3</td>\n",
              "      <td>2042</td>\n",
              "      <td>75</td>\n",
              "      <td>4624</td>\n",
              "      <td>0.752</td>\n",
              "      <td>...</td>\n",
              "      <td>0</td>\n",
              "      <td>0</td>\n",
              "      <td>0</td>\n",
              "      <td>0</td>\n",
              "      <td>1</td>\n",
              "      <td>0</td>\n",
              "      <td>1</td>\n",
              "      <td>0</td>\n",
              "      <td>0</td>\n",
              "      <td>0</td>\n",
              "    </tr>\n",
              "    <tr>\n",
              "      <th>3</th>\n",
              "      <td>39.0</td>\n",
              "      <td>5</td>\n",
              "      <td>116</td>\n",
              "      <td>3</td>\n",
              "      <td>4693.0</td>\n",
              "      <td>1</td>\n",
              "      <td>634</td>\n",
              "      <td>79</td>\n",
              "      <td>4460</td>\n",
              "      <td>0.909</td>\n",
              "      <td>...</td>\n",
              "      <td>0</td>\n",
              "      <td>0</td>\n",
              "      <td>0</td>\n",
              "      <td>0</td>\n",
              "      <td>1</td>\n",
              "      <td>0</td>\n",
              "      <td>1</td>\n",
              "      <td>0</td>\n",
              "      <td>0</td>\n",
              "      <td>0</td>\n",
              "    </tr>\n",
              "    <tr>\n",
              "      <th>4</th>\n",
              "      <td>42.0</td>\n",
              "      <td>2</td>\n",
              "      <td>115</td>\n",
              "      <td>0</td>\n",
              "      <td>2275.0</td>\n",
              "      <td>2</td>\n",
              "      <td>1265</td>\n",
              "      <td>77</td>\n",
              "      <td>5626</td>\n",
              "      <td>0.755</td>\n",
              "      <td>...</td>\n",
              "      <td>0</td>\n",
              "      <td>0</td>\n",
              "      <td>0</td>\n",
              "      <td>1</td>\n",
              "      <td>0</td>\n",
              "      <td>0</td>\n",
              "      <td>1</td>\n",
              "      <td>0</td>\n",
              "      <td>0</td>\n",
              "      <td>0</td>\n",
              "    </tr>\n",
              "  </tbody>\n",
              "</table>\n",
              "<p>5 rows × 33 columns</p>\n",
              "</div>\n",
              "      <button class=\"colab-df-convert\" onclick=\"convertToInteractive('df-483bdadd-f286-45db-8c6c-2e693b2c15e2')\"\n",
              "              title=\"Convert this dataframe to an interactive table.\"\n",
              "              style=\"display:none;\">\n",
              "        \n",
              "  <svg xmlns=\"http://www.w3.org/2000/svg\" height=\"24px\"viewBox=\"0 0 24 24\"\n",
              "       width=\"24px\">\n",
              "    <path d=\"M0 0h24v24H0V0z\" fill=\"none\"/>\n",
              "    <path d=\"M18.56 5.44l.94 2.06.94-2.06 2.06-.94-2.06-.94-.94-2.06-.94 2.06-2.06.94zm-11 1L8.5 8.5l.94-2.06 2.06-.94-2.06-.94L8.5 2.5l-.94 2.06-2.06.94zm10 10l.94 2.06.94-2.06 2.06-.94-2.06-.94-.94-2.06-.94 2.06-2.06.94z\"/><path d=\"M17.41 7.96l-1.37-1.37c-.4-.4-.92-.59-1.43-.59-.52 0-1.04.2-1.43.59L10.3 9.45l-7.72 7.72c-.78.78-.78 2.05 0 2.83L4 21.41c.39.39.9.59 1.41.59.51 0 1.02-.2 1.41-.59l7.78-7.78 2.81-2.81c.8-.78.8-2.07 0-2.86zM5.41 20L4 18.59l7.72-7.72 1.47 1.35L5.41 20z\"/>\n",
              "  </svg>\n",
              "      </button>\n",
              "      \n",
              "  <style>\n",
              "    .colab-df-container {\n",
              "      display:flex;\n",
              "      flex-wrap:wrap;\n",
              "      gap: 12px;\n",
              "    }\n",
              "\n",
              "    .colab-df-convert {\n",
              "      background-color: #E8F0FE;\n",
              "      border: none;\n",
              "      border-radius: 50%;\n",
              "      cursor: pointer;\n",
              "      display: none;\n",
              "      fill: #1967D2;\n",
              "      height: 32px;\n",
              "      padding: 0 0 0 0;\n",
              "      width: 32px;\n",
              "    }\n",
              "\n",
              "    .colab-df-convert:hover {\n",
              "      background-color: #E2EBFA;\n",
              "      box-shadow: 0px 1px 2px rgba(60, 64, 67, 0.3), 0px 1px 3px 1px rgba(60, 64, 67, 0.15);\n",
              "      fill: #174EA6;\n",
              "    }\n",
              "\n",
              "    [theme=dark] .colab-df-convert {\n",
              "      background-color: #3B4455;\n",
              "      fill: #D2E3FC;\n",
              "    }\n",
              "\n",
              "    [theme=dark] .colab-df-convert:hover {\n",
              "      background-color: #434B5C;\n",
              "      box-shadow: 0px 1px 3px 1px rgba(0, 0, 0, 0.15);\n",
              "      filter: drop-shadow(0px 1px 2px rgba(0, 0, 0, 0.3));\n",
              "      fill: #FFFFFF;\n",
              "    }\n",
              "  </style>\n",
              "\n",
              "      <script>\n",
              "        const buttonEl =\n",
              "          document.querySelector('#df-483bdadd-f286-45db-8c6c-2e693b2c15e2 button.colab-df-convert');\n",
              "        buttonEl.style.display =\n",
              "          google.colab.kernel.accessAllowed ? 'block' : 'none';\n",
              "\n",
              "        async function convertToInteractive(key) {\n",
              "          const element = document.querySelector('#df-483bdadd-f286-45db-8c6c-2e693b2c15e2');\n",
              "          const dataTable =\n",
              "            await google.colab.kernel.invokeFunction('convertToInteractive',\n",
              "                                                     [key], {});\n",
              "          if (!dataTable) return;\n",
              "\n",
              "          const docLinkHtml = 'Like what you see? Visit the ' +\n",
              "            '<a target=\"_blank\" href=https://colab.research.google.com/notebooks/data_table.ipynb>data table notebook</a>'\n",
              "            + ' to learn more about interactive tables.';\n",
              "          element.innerHTML = '';\n",
              "          dataTable['output_type'] = 'display_data';\n",
              "          await google.colab.output.renderOutput(dataTable, element);\n",
              "          const docLink = document.createElement('div');\n",
              "          docLink.innerHTML = docLinkHtml;\n",
              "          element.appendChild(docLink);\n",
              "        }\n",
              "      </script>\n",
              "    </div>\n",
              "  </div>\n",
              "  "
            ]
          },
          "metadata": {},
          "execution_count": 105
        }
      ]
    },
    {
      "cell_type": "code",
      "source": [
        "pred = opt.predict(df_test)"
      ],
      "metadata": {
        "id": "Wl0PKi0bxHIY"
      },
      "execution_count": null,
      "outputs": []
    },
    {
      "cell_type": "code",
      "source": [
        "sum(pred) / len(pred)"
      ],
      "metadata": {
        "colab": {
          "base_uri": "https://localhost:8080/"
        },
        "id": "eDQ0rONXxNBb",
        "outputId": "8e51c697-be24-4a00-d281-5b6af0503732"
      },
      "execution_count": null,
      "outputs": [
        {
          "output_type": "execute_result",
          "data": {
            "text/plain": [
              "0.257036643653744"
            ]
          },
          "metadata": {},
          "execution_count": 116
        }
      ]
    },
    {
      "cell_type": "code",
      "source": [
        "res = pd.DataFrame({'customer_id': customer_id,\n",
        "                    'churn': pred})"
      ],
      "metadata": {
        "id": "EKAymdHnxZhb"
      },
      "execution_count": null,
      "outputs": []
    },
    {
      "cell_type": "code",
      "source": [
        "res"
      ],
      "metadata": {
        "colab": {
          "base_uri": "https://localhost:8080/",
          "height": 424
        },
        "id": "1o60JNXoyEEg",
        "outputId": "1f927683-6733-4e84-a453-b194f855dc27"
      },
      "execution_count": null,
      "outputs": [
        {
          "output_type": "execute_result",
          "data": {
            "text/plain": [
              "      customer_id  churn\n",
              "0            4527      0\n",
              "1            4166      0\n",
              "2            4409      0\n",
              "3            6376      0\n",
              "4            6367      0\n",
              "...           ...    ...\n",
              "1878         5704      1\n",
              "1879         6371      0\n",
              "1880         3073      0\n",
              "1881         1912      0\n",
              "1882         3196      0\n",
              "\n",
              "[1883 rows x 2 columns]"
            ],
            "text/html": [
              "\n",
              "  <div id=\"df-1db43703-f32e-4580-8e83-ced824e09bbd\">\n",
              "    <div class=\"colab-df-container\">\n",
              "      <div>\n",
              "<style scoped>\n",
              "    .dataframe tbody tr th:only-of-type {\n",
              "        vertical-align: middle;\n",
              "    }\n",
              "\n",
              "    .dataframe tbody tr th {\n",
              "        vertical-align: top;\n",
              "    }\n",
              "\n",
              "    .dataframe thead th {\n",
              "        text-align: right;\n",
              "    }\n",
              "</style>\n",
              "<table border=\"1\" class=\"dataframe\">\n",
              "  <thead>\n",
              "    <tr style=\"text-align: right;\">\n",
              "      <th></th>\n",
              "      <th>customer_id</th>\n",
              "      <th>churn</th>\n",
              "    </tr>\n",
              "  </thead>\n",
              "  <tbody>\n",
              "    <tr>\n",
              "      <th>0</th>\n",
              "      <td>4527</td>\n",
              "      <td>0</td>\n",
              "    </tr>\n",
              "    <tr>\n",
              "      <th>1</th>\n",
              "      <td>4166</td>\n",
              "      <td>0</td>\n",
              "    </tr>\n",
              "    <tr>\n",
              "      <th>2</th>\n",
              "      <td>4409</td>\n",
              "      <td>0</td>\n",
              "    </tr>\n",
              "    <tr>\n",
              "      <th>3</th>\n",
              "      <td>6376</td>\n",
              "      <td>0</td>\n",
              "    </tr>\n",
              "    <tr>\n",
              "      <th>4</th>\n",
              "      <td>6367</td>\n",
              "      <td>0</td>\n",
              "    </tr>\n",
              "    <tr>\n",
              "      <th>...</th>\n",
              "      <td>...</td>\n",
              "      <td>...</td>\n",
              "    </tr>\n",
              "    <tr>\n",
              "      <th>1878</th>\n",
              "      <td>5704</td>\n",
              "      <td>1</td>\n",
              "    </tr>\n",
              "    <tr>\n",
              "      <th>1879</th>\n",
              "      <td>6371</td>\n",
              "      <td>0</td>\n",
              "    </tr>\n",
              "    <tr>\n",
              "      <th>1880</th>\n",
              "      <td>3073</td>\n",
              "      <td>0</td>\n",
              "    </tr>\n",
              "    <tr>\n",
              "      <th>1881</th>\n",
              "      <td>1912</td>\n",
              "      <td>0</td>\n",
              "    </tr>\n",
              "    <tr>\n",
              "      <th>1882</th>\n",
              "      <td>3196</td>\n",
              "      <td>0</td>\n",
              "    </tr>\n",
              "  </tbody>\n",
              "</table>\n",
              "<p>1883 rows × 2 columns</p>\n",
              "</div>\n",
              "      <button class=\"colab-df-convert\" onclick=\"convertToInteractive('df-1db43703-f32e-4580-8e83-ced824e09bbd')\"\n",
              "              title=\"Convert this dataframe to an interactive table.\"\n",
              "              style=\"display:none;\">\n",
              "        \n",
              "  <svg xmlns=\"http://www.w3.org/2000/svg\" height=\"24px\"viewBox=\"0 0 24 24\"\n",
              "       width=\"24px\">\n",
              "    <path d=\"M0 0h24v24H0V0z\" fill=\"none\"/>\n",
              "    <path d=\"M18.56 5.44l.94 2.06.94-2.06 2.06-.94-2.06-.94-.94-2.06-.94 2.06-2.06.94zm-11 1L8.5 8.5l.94-2.06 2.06-.94-2.06-.94L8.5 2.5l-.94 2.06-2.06.94zm10 10l.94 2.06.94-2.06 2.06-.94-2.06-.94-.94-2.06-.94 2.06-2.06.94z\"/><path d=\"M17.41 7.96l-1.37-1.37c-.4-.4-.92-.59-1.43-.59-.52 0-1.04.2-1.43.59L10.3 9.45l-7.72 7.72c-.78.78-.78 2.05 0 2.83L4 21.41c.39.39.9.59 1.41.59.51 0 1.02-.2 1.41-.59l7.78-7.78 2.81-2.81c.8-.78.8-2.07 0-2.86zM5.41 20L4 18.59l7.72-7.72 1.47 1.35L5.41 20z\"/>\n",
              "  </svg>\n",
              "      </button>\n",
              "      \n",
              "  <style>\n",
              "    .colab-df-container {\n",
              "      display:flex;\n",
              "      flex-wrap:wrap;\n",
              "      gap: 12px;\n",
              "    }\n",
              "\n",
              "    .colab-df-convert {\n",
              "      background-color: #E8F0FE;\n",
              "      border: none;\n",
              "      border-radius: 50%;\n",
              "      cursor: pointer;\n",
              "      display: none;\n",
              "      fill: #1967D2;\n",
              "      height: 32px;\n",
              "      padding: 0 0 0 0;\n",
              "      width: 32px;\n",
              "    }\n",
              "\n",
              "    .colab-df-convert:hover {\n",
              "      background-color: #E2EBFA;\n",
              "      box-shadow: 0px 1px 2px rgba(60, 64, 67, 0.3), 0px 1px 3px 1px rgba(60, 64, 67, 0.15);\n",
              "      fill: #174EA6;\n",
              "    }\n",
              "\n",
              "    [theme=dark] .colab-df-convert {\n",
              "      background-color: #3B4455;\n",
              "      fill: #D2E3FC;\n",
              "    }\n",
              "\n",
              "    [theme=dark] .colab-df-convert:hover {\n",
              "      background-color: #434B5C;\n",
              "      box-shadow: 0px 1px 3px 1px rgba(0, 0, 0, 0.15);\n",
              "      filter: drop-shadow(0px 1px 2px rgba(0, 0, 0, 0.3));\n",
              "      fill: #FFFFFF;\n",
              "    }\n",
              "  </style>\n",
              "\n",
              "      <script>\n",
              "        const buttonEl =\n",
              "          document.querySelector('#df-1db43703-f32e-4580-8e83-ced824e09bbd button.colab-df-convert');\n",
              "        buttonEl.style.display =\n",
              "          google.colab.kernel.accessAllowed ? 'block' : 'none';\n",
              "\n",
              "        async function convertToInteractive(key) {\n",
              "          const element = document.querySelector('#df-1db43703-f32e-4580-8e83-ced824e09bbd');\n",
              "          const dataTable =\n",
              "            await google.colab.kernel.invokeFunction('convertToInteractive',\n",
              "                                                     [key], {});\n",
              "          if (!dataTable) return;\n",
              "\n",
              "          const docLinkHtml = 'Like what you see? Visit the ' +\n",
              "            '<a target=\"_blank\" href=https://colab.research.google.com/notebooks/data_table.ipynb>data table notebook</a>'\n",
              "            + ' to learn more about interactive tables.';\n",
              "          element.innerHTML = '';\n",
              "          dataTable['output_type'] = 'display_data';\n",
              "          await google.colab.output.renderOutput(dataTable, element);\n",
              "          const docLink = document.createElement('div');\n",
              "          docLink.innerHTML = docLinkHtml;\n",
              "          element.appendChild(docLink);\n",
              "        }\n",
              "      </script>\n",
              "    </div>\n",
              "  </div>\n",
              "  "
            ]
          },
          "metadata": {},
          "execution_count": 118
        }
      ]
    },
    {
      "cell_type": "code",
      "source": [
        "res.to_csv(r'/content/submission_8.csv', index = False)"
      ],
      "metadata": {
        "id": "ygqhHFjwyLln"
      },
      "execution_count": null,
      "outputs": []
    }
  ]
}